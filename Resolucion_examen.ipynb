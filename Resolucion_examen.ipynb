{
 "cells": [
  {
   "cell_type": "markdown",
   "id": "ecc847b6",
   "metadata": {},
   "source": [
    "# Evaluación #    \n",
    "\n",
    "Alumna: JULIA BECARIA COQUET\n",
    "\n",
    "\n",
    "\n",
    "\n",
    "\n"
   ]
  },
  {
   "cell_type": "markdown",
   "id": "ad94229b",
   "metadata": {},
   "source": [
    "\n",
    "\n",
    "\n",
    "#\n",
    "  \n",
    "#\n",
    "  \n",
    "#\n",
    "  \n",
    "\n",
    "## Resoluciones ##\n",
    "\n",
    "#\n",
    "  \n",
    "#\n",
    "  \n",
    "#\n",
    "  \n"
   ]
  },
  {
   "cell_type": "markdown",
   "id": "0b13bc8c",
   "metadata": {},
   "source": [
    " Instrucciones:\n",
    " Antes de empezar, hay que crear un nuevo repositorio desde GitHub Classroom usando este enlace.\n",
    "\n",
    " Una vez creado, hay que clonar en nuestro ordenador y en la carpeta creada empezaremos a trabajar\n",
    " en el ejercicio.\n",
    "\n",
    " Esta evaluación consta de una serie de preguntas que evalúan tu comprensión y habilidades en relación\n",
    " con funciones, bucles y otros conceptos estudiados en el módulo 1.\n",
    "\n",
    " Puedes usar recursos externos, incluyendo internet y materiales de referencia o tus propias notas.\n",
    " Completa los ejercicios en un jupyter notebook."
   ]
  },
  {
   "cell_type": "markdown",
   "id": "3388e88e",
   "metadata": {},
   "source": [
    " Ejercicio\n",
    "\n",
    " Vamos a tener tres estructuras principales con las que vamos a trabajar:\n",
    "\n",
    "  1. `inventario` (lista de diccionarios): Una estructura para almacenar los \n",
    "productos en el inventario. Cada producto debe ser representado como un \n",
    "diccionario con las siguientes claves: `'nombre'`, `'precio'`, y \n",
    "`'cantidad'`. Al principio deberá ser una lista vacía. Ejemplo de como \n",
    "debería ser: \n",
    "\n",
    "      ```python \n",
    "      [{'nombre': 'Camisa', 'precio': 20, 'cantidad': 40}, \n",
    "      {'nombre': 'Pantalón', 'precio': 30, 'cantidad': 30}] \n",
    "      ``` \n",
    "\n",
    "  2. `clientes` (diccionario): Una estructura para llevar un registro de los \n",
    "clientes de la tienda. Cada cliente debe ser representado como un \n",
    "diccionario con las siguientes claves: `'nombre'` y `'email'`. Al inicio \n",
    "deberá ser un diccionario vacío. Además, cada cliente debe tener un \n",
    "historial de compras. Deberá parecerse a: \n",
    "\n",
    "      ```python \n",
    "      {'Cliente1': {'email': 'cliente1@email.com', 'compras': []}, \n",
    "      'Cliente2': {'email': 'cliente2@email.com', 'compras': []}} \n",
    "      ``` \n",
    "      \n",
    "  3. `ventas_totales` (float): Una variable para llevar un registro de las \n",
    "ventas totales de la tienda. Inicializalo con valor 0. "
   ]
  },
  {
   "cell_type": "markdown",
   "id": "f6a422e6",
   "metadata": {},
   "source": [
    "A lo largo de esta evaluación tendrás que crear una serie de funciones que cumplan con los siguientes\n",
    " requisitos:\n",
    " "
   ]
  },
  {
   "cell_type": "markdown",
   "id": "2af6ea8e",
   "metadata": {},
   "source": [
    "1. `agregar_producto(nombre, precio, cantidad)`: Esta función agrega un \n",
    "producto al inventario o actualiza su cantidad si ya existe. Debe recibir el \n",
    "nombre, precio y cantidad del producto como parámetros.  \n",
    "     - Itera a través del inventario y compara los nombres de los productos \n",
    "con el nombre proporcionado. \n",
    "     - Si el producto ya existe, actualiza la cantidad. \n",
    "     - Si no existe, agrega un nuevo producto al inventario. \n",
    " 2. `ver_inventario()`: Muestra el inventario de productos con sus detalles. \n",
    "     - Utiliza un bucle `for` para recorrer el inventario. \n",
    "     - Imprime los detalles (nombre, precio, cantidad) de cada producto. \n",
    "     - Debería verse: \n",
    "         ```python \n",
    "         Nombre: Camisa, Precio: $20, Cantidad: 50 \n",
    "         Nombre: Pantalón, Precio: $30, Cantidad: 30 \n",
    "         Nombre: Zapatos, Precio: $50, Cantidad: 40 \n",
    "         Nombre: Camisa, Precio: $20, Cantidad: 50 \n",
    "         ``` \n",
    " 3. `buscar_producto(nombre)`: Busca un producto en el inventario por nombre \n",
    "y muestra sus detalles si se encuentra. Debe recibir el nombre del producto \n",
    "como parámetro. \n",
    "     - Utiliza un bucle `for` para recorrer el inventario. \n",
    "     - Compara los nombres de los productos con el nombre proporcionado. \n",
    "     - Si se encuentra el producto, imprime sus detalles. \n",
    "     - Debe mostrar: \n",
    "         ```python \n",
    "         Nombre: Camisa, Precio: $20, Cantidad: 40 \n",
    "         ``` \n",
    " 4. `actualizar_stock(nombre, cantidad)`: Actualiza el stock de un producto \n",
    "en el inventario. Debe recibir el nombre del producto y la cantidad a \n",
    "agregar o quitar como parámetros. \n",
    "    - Utiliza un bucle `for` para recorrer el inventario. \n",
    "    - Busca el producto por nombre. \n",
    "      - Actualiza la cantidad según la entrada del usuario. \n",
    "    - Si el producto no esta en el inventario muestra un mensaje \n",
    "indicándolo.  \n",
    " 5. `eliminar_producto(nombre)`: Elimina un producto del inventario por \n",
    "nombre. Debe recibir el nombre del producto como parámetro. \n",
    "     - Utiliza un bucle `for` para recorrer el inventario. \n",
    "     - Busca el producto por nombre. \n",
    "     - Elimina el producto del inventario si existe. \n",
    "     - Si el producto no esta en el inventario muestra un mensaje \n",
    "indicándolo.  \n",
    " 6. `calcular_valor_inventario()`: Calcula y muestra el valor total del \n",
    "inventario. \n",
    "     - Utiliza un bucle for para calcular el valor total del inventario. \n",
    "     - Itera a través del inventario y suma el valor de cada producto \n",
    "(precio x cantidad). Es decir, calcula el valor total del inventario. \n",
    "Ejemplo: \n",
    "         ```python \n",
    "         # si tenemos 5 camisas que valen 5 euros  \n",
    "         # y 10 calcetines que valen 1 euro \n",
    "         # este método te tiene que devolver: 35 euros \n",
    "         valor_camisas = 5 * 5 \n",
    "         valor_calcetines = 10 * 1 \n",
    "         valor_camisas + valor_calcetines = 35 \n",
    "         ``` \n",
    "2024-10-07\n",
    " 7. `realizar_compra()`: Permite a un cliente realizar una compra \n",
    "seleccionando productos del inventario. Debe interactuar con el cliente para \n",
    "seleccionar productos y calcular el costo total de la compra. \n",
    "     - Utiliza un bucle `while` para permitir al cliente realizar múltiples \n",
    "compras. \n",
    "     - Muestra el inventario y solicita al cliente ingresar el nombre del \n",
    "producto que desea comprar. \n",
    "     - Registra los productos seleccionados en un carrito y actualiza el \n",
    "inventario.\n",
    " - Calcula el costo total de la compra. \n",
    "�\n",
    "� A partir de este punto los ejercicios son voluntarios: \n",
    "2024-10-07\n",
    " 8. `procesar_pago()`: Procesa el pago de una compra, calcula el cambio y \n",
    "muestra un mensaje de confirmación. \n",
    "     - Utiliza un bloque `try...except` para manejar excepciones. \n",
    "     - Solicita al cliente ingresar la cantidad total y la cantidad de pago \n",
    "usando un input. \n",
    "     - Calcula el cambio y muestra un mensaje de pago exitoso o un error en \n",
    "caso de monto insuficiente. \n",
    " 9. `agregar_cliente(nombre, email)`: Agrega un nuevo cliente al registro de \n",
    "clientes. Debe recibir el nombre y el correo electrónico del cliente como \n",
    "parámetros. \n",
    "     - Agrega un cliente al diccionario de clientes con su nombre y correo \n",
    "electrónico. \n",
    " 10. `ver_clientes()`: Muestra la lista de clientes registrados con sus \n",
    "nombres y correos electrónicos. \n",
    "     - Utiliza un bucle `for` para recorrer la base de datos de clientes. \n",
    "     - Imprime los detalles de cada cliente (nombre y correo electrónico). \n",
    " 11. `registrar_compra(nombre_cliente, carrito)`: Registra una compra para \n",
    "un cliente, actualiza las ventas totales y agrega la compra al historial del \n",
    "cliente. Debe recibir el nombre del cliente y el carrito de compras como \n",
    "parámetros. \n",
    "     - Busca al cliente en el diccionario de clientes. \n",
    "     - Si el cliente no esta en el diccionario de clientes, muestra que no \n",
    "se puede realizar la acción por que el cliente no está en el diccionario.  \n",
    "     - Calcula el total de la compra y registra la compra, incluyendo los \n",
    "productos y el total. \n",
    "     - Ejemplo: \n",
    "         ```python \n",
    "         carrito_cliente1 = {\"Camisa\": {\"precio\": 20, \"cantidad\": 3}} \n",
    "         tienda.registrar_compra(\"Cliente1\", carrito_cliente1) \n",
    "         ``` \n",
    "\n",
    " 12. `ver_compras_cliente(nombre_cliente)`: Muestra el historial de compras \n",
    "de un cliente. Debe recibir el nombre del cliente como parámetro. \n",
    "     - Busca al cliente en el diccionario de clientes. \n",
    "     - Muestra las compras realizadas por el cliente, incluyendo detalles de \n",
    "productos y totales. \n",
    " 13. `calcular_ventas_totales()`: Muestra las ventas totales de la tienda. \n",
    "     - Suma los totales de todas las compras realizadas y muestra el total \n",
    "de ventas totales en la tienda.\n"
   ]
  },
  {
   "cell_type": "markdown",
   "id": "1aef6dd2",
   "metadata": {},
   "source": [
    "### A continuacion de cada funcion, se prueban diferentes escenarios para evaluar todas las posibilidades y asegurar su funcionamiento ###"
   ]
  },
  {
   "cell_type": "code",
   "execution_count": 1,
   "id": "5058fe5e",
   "metadata": {},
   "outputs": [],
   "source": [
    "#Crear listas y diccionarios\n",
    "\n",
    "inventario = []\n",
    "clientes = {}\n",
    "ventas_totales = 0.0"
   ]
  },
  {
   "cell_type": "code",
   "execution_count": 2,
   "id": "f0b22072",
   "metadata": {},
   "outputs": [
    {
     "name": "stdout",
     "output_type": "stream",
     "text": [
      "[]\n"
     ]
    }
   ],
   "source": [
    "print(inventario)"
   ]
  },
  {
   "cell_type": "code",
   "execution_count": 3,
   "id": "56dbfc65",
   "metadata": {},
   "outputs": [],
   "source": [
    "#FUNCION AGREGAR PRODUCTO\n",
    "\n",
    "def agregar_producto(nombre:str, precio:float, cantidad:int):  #Se puede aclarar que tipo de dato va a ser cada parámetro\n",
    "    encontrado = False                                         #Creo booleano para poder salir del bucle for cuando encuentre nombre producto\n",
    "    for producto in inventario:                                #Itero por cada producto del inventario, si existe sumo cantidad\n",
    "        if producto['nombre'] == nombre:\n",
    "            producto['cantidad'] += int(cantidad)\n",
    "            print(f\"El producto {nombre} ya existe. Stock actualizado: {producto['cantidad']}\")\n",
    "            encontrado = True\n",
    "            break\n",
    "\n",
    "    if not encontrado:                                          #Si no esta en inventario, agrego este nuevo producto\n",
    "            inventario.append({'nombre': str(nombre), 'precio': float(precio), 'cantidad': int(cantidad)})\n",
    "            print(f\"Nuevo producto.\")\n",
    "            print(f\"Producto {nombre} agregado con éxito. Stock: {cantidad}.\")\n",
    "\n"
   ]
  },
  {
   "cell_type": "code",
   "execution_count": 4,
   "id": "c94f73e5",
   "metadata": {},
   "outputs": [
    {
     "ename": "NameError",
     "evalue": "name 'Camisa' is not defined",
     "output_type": "error",
     "traceback": [
      "\u001b[1;31m---------------------------------------------------------------------------\u001b[0m",
      "\u001b[1;31mNameError\u001b[0m                                 Traceback (most recent call last)",
      "Cell \u001b[1;32mIn[4], line 2\u001b[0m\n\u001b[0;32m      1\u001b[0m \u001b[38;5;66;03m# Ejemplo: argumento incorrecto\u001b[39;00m\n\u001b[1;32m----> 2\u001b[0m agregar_producto(Camisa, \u001b[38;5;241m20\u001b[39m, \u001b[38;5;241m40\u001b[39m)\n",
      "\u001b[1;31mNameError\u001b[0m: name 'Camisa' is not defined"
     ]
    }
   ],
   "source": [
    "# Ejemplo: argumento incorrecto\n",
    "agregar_producto(Camisa, 20, 40)"
   ]
  },
  {
   "cell_type": "code",
   "execution_count": 5,
   "id": "1cd03034",
   "metadata": {},
   "outputs": [
    {
     "name": "stdout",
     "output_type": "stream",
     "text": [
      "Nuevo producto.\n",
      "Producto Camisa agregado con éxito. Stock: 40.\n"
     ]
    }
   ],
   "source": [
    "# Ejemplo: producto nuevo\n",
    "agregar_producto(\"Camisa\", 20, 40)                              "
   ]
  },
  {
   "cell_type": "code",
   "execution_count": 6,
   "id": "bb71bdef",
   "metadata": {},
   "outputs": [
    {
     "name": "stdout",
     "output_type": "stream",
     "text": [
      "Nuevo producto.\n",
      "Producto Medias agregado con éxito. Stock: 5.\n"
     ]
    }
   ],
   "source": [
    "# Ejemplo: otro producto nuevo\n",
    "agregar_producto(\"Medias\", 10, 5)"
   ]
  },
  {
   "cell_type": "code",
   "execution_count": 7,
   "id": "6f439cc3",
   "metadata": {},
   "outputs": [
    {
     "data": {
      "text/plain": [
       "[{'nombre': 'Camisa', 'precio': 20.0, 'cantidad': 40},\n",
       " {'nombre': 'Medias', 'precio': 10.0, 'cantidad': 5}]"
      ]
     },
     "execution_count": 7,
     "metadata": {},
     "output_type": "execute_result"
    }
   ],
   "source": [
    "inventario"
   ]
  },
  {
   "cell_type": "code",
   "execution_count": 8,
   "id": "7fc50a1a",
   "metadata": {},
   "outputs": [
    {
     "name": "stdout",
     "output_type": "stream",
     "text": [
      "El producto Medias ya existe. Stock actualizado: 10\n"
     ]
    }
   ],
   "source": [
    "# Ejemplo: producto que ya esta en stock\n",
    "agregar_producto(\"Medias\", 10, 5)"
   ]
  },
  {
   "cell_type": "code",
   "execution_count": 9,
   "id": "2ebe63cd",
   "metadata": {},
   "outputs": [
    {
     "name": "stdout",
     "output_type": "stream",
     "text": [
      "[{'nombre': 'Camisa', 'precio': 20.0, 'cantidad': 40}, {'nombre': 'Medias', 'precio': 10.0, 'cantidad': 10}]\n"
     ]
    }
   ],
   "source": [
    "print(inventario)"
   ]
  },
  {
   "cell_type": "code",
   "execution_count": 10,
   "id": "fdd6fa80",
   "metadata": {},
   "outputs": [
    {
     "name": "stdout",
     "output_type": "stream",
     "text": [
      "Nuevo producto.\n",
      "Producto Pantalón agregado con éxito. Stock: 15.\n",
      "Nuevo producto.\n",
      "Producto Vestido agregado con éxito. Stock: 22.\n",
      "Nuevo producto.\n",
      "Producto Bikini agregado con éxito. Stock: 13.\n"
     ]
    }
   ],
   "source": [
    "# Ejemplo: más productos nuevos\n",
    "agregar_producto(\"Pantalón\", 20, 15)\n",
    "agregar_producto(\"Vestido\", 15, 22)\n",
    "agregar_producto(\"Bikini\", 16, 13)"
   ]
  },
  {
   "cell_type": "code",
   "execution_count": 11,
   "id": "b3c7e6ab",
   "metadata": {},
   "outputs": [
    {
     "data": {
      "text/plain": [
       "[{'nombre': 'Camisa', 'precio': 20.0, 'cantidad': 40},\n",
       " {'nombre': 'Medias', 'precio': 10.0, 'cantidad': 10},\n",
       " {'nombre': 'Pantalón', 'precio': 20.0, 'cantidad': 15},\n",
       " {'nombre': 'Vestido', 'precio': 15.0, 'cantidad': 22},\n",
       " {'nombre': 'Bikini', 'precio': 16.0, 'cantidad': 13}]"
      ]
     },
     "execution_count": 11,
     "metadata": {},
     "output_type": "execute_result"
    }
   ],
   "source": [
    "inventario"
   ]
  },
  {
   "cell_type": "code",
   "execution_count": 12,
   "id": "dfdb5f2d",
   "metadata": {},
   "outputs": [],
   "source": [
    "# FUNCION VER INVENTARIO\n",
    "\n",
    "def ver_inventario():\n",
    "    print(\" \")\n",
    "    print(\"             INVENTARIO\")\n",
    "    print(\" \")\n",
    "    for producto in inventario:\n",
    "                print(f\"Nombre: {producto['nombre']}, Precio: ${producto['precio']}, Cantidad: {producto['cantidad']}\")\n",
    "    \n"
   ]
  },
  {
   "cell_type": "code",
   "execution_count": 13,
   "id": "1f16ab1e",
   "metadata": {},
   "outputs": [
    {
     "name": "stdout",
     "output_type": "stream",
     "text": [
      " \n",
      "             INVENTARIO\n",
      " \n",
      "Nombre: Camisa, Precio: $20.0, Cantidad: 40\n",
      "Nombre: Medias, Precio: $10.0, Cantidad: 10\n",
      "Nombre: Pantalón, Precio: $20.0, Cantidad: 15\n",
      "Nombre: Vestido, Precio: $15.0, Cantidad: 22\n",
      "Nombre: Bikini, Precio: $16.0, Cantidad: 13\n"
     ]
    }
   ],
   "source": [
    "# Ejemplo implementacion\n",
    "ver_inventario()"
   ]
  },
  {
   "cell_type": "code",
   "execution_count": 14,
   "id": "f1ffafbc",
   "metadata": {},
   "outputs": [],
   "source": [
    "# FUNCION BUSCAR_PRODUCTO\n",
    "\n",
    "def buscar_producto(nombre):\n",
    "    encontrado = False\n",
    "    for producto in inventario:\n",
    "        if nombre.lower() == producto['nombre'].lower():\n",
    "            print(\"¡Producto encontrado!\")\n",
    "            print(f\"Nombre: {producto['nombre']}, Precio: ${producto['precio']}, Cantidad: {producto['cantidad']}\")\n",
    "            encontrado = True\n",
    "            break\n",
    "\n",
    "    if not encontrado:\n",
    "        print(f\"No se ha encontrado {nombre} en el inventario.\")\n",
    "    "
   ]
  },
  {
   "cell_type": "code",
   "execution_count": 15,
   "id": "afe80011",
   "metadata": {},
   "outputs": [
    {
     "name": "stdout",
     "output_type": "stream",
     "text": [
      "¡Producto encontrado!\n",
      "Nombre: Medias, Precio: $10.0, Cantidad: 10\n"
     ]
    }
   ],
   "source": [
    "# Ejemplo: producto en inventario\n",
    "buscar_producto(\"MeDIAS\")"
   ]
  },
  {
   "cell_type": "code",
   "execution_count": 16,
   "id": "957ed9f6",
   "metadata": {},
   "outputs": [
    {
     "name": "stdout",
     "output_type": "stream",
     "text": [
      "No se ha encontrado Corbatas en el inventario.\n"
     ]
    }
   ],
   "source": [
    "# Ejemplo: producto en inventario\n",
    "buscar_producto(\"Corbatas\")"
   ]
  },
  {
   "cell_type": "code",
   "execution_count": 17,
   "id": "bb02607e",
   "metadata": {},
   "outputs": [],
   "source": [
    "# FUNCION ACTUALIZAR STOCK\n",
    "\n",
    "def actualizar_stock(nombre, cantidad):\n",
    "    encontrado = False\n",
    "    for producto in inventario:\n",
    "        if nombre.lower() == producto['nombre'].lower():\n",
    "            producto['cantidad'] += cantidad\n",
    "            print(f\"Producto: {nombre.capitalize()}. Stock actual: {producto['cantidad']}. Actualizado.\")\n",
    "            encontrado = True\n",
    "            break\n",
    "    if not encontrado:\n",
    "        print(\"Producto no registrado en inventario.\\n\"\n",
    "              \"Revisar nombre o agregar nuevo producto.\")\n",
    "        "
   ]
  },
  {
   "cell_type": "code",
   "execution_count": 18,
   "id": "861a9920",
   "metadata": {},
   "outputs": [
    {
     "name": "stdout",
     "output_type": "stream",
     "text": [
      "Producto: Bikini. Stock actual: 19. Actualizado.\n"
     ]
    }
   ],
   "source": [
    "#Ejemplo : compar producto/ aumentar stock\n",
    "actualizar_stock(\"bikini\", 6)"
   ]
  },
  {
   "cell_type": "code",
   "execution_count": 19,
   "id": "813e6535",
   "metadata": {},
   "outputs": [
    {
     "name": "stdout",
     "output_type": "stream",
     "text": [
      "Producto no registrado en inventario.\n",
      "Revisar nombre o agregar nuevo producto.\n"
     ]
    }
   ],
   "source": [
    "#Ejemplo : actualizar producto que no esta en inventario.\n",
    "actualizar_stock(\"short\", 6)"
   ]
  },
  {
   "cell_type": "code",
   "execution_count": 20,
   "id": "1ef7b959",
   "metadata": {},
   "outputs": [
    {
     "name": "stdout",
     "output_type": "stream",
     "text": [
      "Producto: Medias. Stock actual: 8. Actualizado.\n"
     ]
    }
   ],
   "source": [
    "#Ejemplo : vender producto/ disminuir stock\n",
    "actualizar_stock(\"medias\", -2)"
   ]
  },
  {
   "cell_type": "code",
   "execution_count": 21,
   "id": "52a06de2",
   "metadata": {},
   "outputs": [
    {
     "name": "stdout",
     "output_type": "stream",
     "text": [
      " \n",
      "             INVENTARIO\n",
      " \n",
      "Nombre: Camisa, Precio: $20.0, Cantidad: 40\n",
      "Nombre: Medias, Precio: $10.0, Cantidad: 8\n",
      "Nombre: Pantalón, Precio: $20.0, Cantidad: 15\n",
      "Nombre: Vestido, Precio: $15.0, Cantidad: 22\n",
      "Nombre: Bikini, Precio: $16.0, Cantidad: 19\n"
     ]
    }
   ],
   "source": [
    "ver_inventario()"
   ]
  },
  {
   "cell_type": "code",
   "execution_count": 22,
   "id": "4ce33fe1",
   "metadata": {},
   "outputs": [],
   "source": [
    "# FUNCION ELIMINAR PRODUCTO\n",
    "\n",
    "def eliminar_producto(nombre):\n",
    "    encontrado = False\n",
    "    for producto in inventario:\n",
    "        if nombre.lower() == producto['nombre'].lower():\n",
    "            inventario.remove(producto)\n",
    "            encontrado = True\n",
    "            print(f\"Producto: {nombre}.\\n\"\n",
    "                \"Eliminado del inventario\")\n",
    "\n",
    "    if not encontrado:\n",
    "        print(f\"Producto: {nombre}. No está en el inventario.\")"
   ]
  },
  {
   "cell_type": "code",
   "execution_count": 23,
   "id": "8ee7089f",
   "metadata": {},
   "outputs": [
    {
     "name": "stdout",
     "output_type": "stream",
     "text": [
      "Producto: Bikini.\n",
      "Eliminado del inventario\n"
     ]
    }
   ],
   "source": [
    "#Ejemplo : Eliminar producto del inventario\n",
    "eliminar_producto(\"Bikini\")"
   ]
  },
  {
   "cell_type": "code",
   "execution_count": 24,
   "id": "6c058855",
   "metadata": {},
   "outputs": [
    {
     "name": "stdout",
     "output_type": "stream",
     "text": [
      " \n",
      "             INVENTARIO\n",
      " \n",
      "Nombre: Camisa, Precio: $20.0, Cantidad: 40\n",
      "Nombre: Medias, Precio: $10.0, Cantidad: 8\n",
      "Nombre: Pantalón, Precio: $20.0, Cantidad: 15\n",
      "Nombre: Vestido, Precio: $15.0, Cantidad: 22\n"
     ]
    }
   ],
   "source": [
    "ver_inventario()"
   ]
  },
  {
   "cell_type": "code",
   "execution_count": 25,
   "id": "0c7038c4",
   "metadata": {},
   "outputs": [
    {
     "name": "stdout",
     "output_type": "stream",
     "text": [
      "Producto: Bikini. No está en el inventario.\n"
     ]
    }
   ],
   "source": [
    "#Ejemplo: Eliminar producto que no esta en inventario\n",
    "eliminar_producto(\"Bikini\")"
   ]
  },
  {
   "cell_type": "code",
   "execution_count": 26,
   "id": "9a45610e",
   "metadata": {},
   "outputs": [
    {
     "name": "stdout",
     "output_type": "stream",
     "text": [
      " \n",
      "             INVENTARIO\n",
      " \n",
      "Nombre: Camisa, Precio: $20.0, Cantidad: 40\n",
      "Nombre: Medias, Precio: $10.0, Cantidad: 8\n",
      "Nombre: Pantalón, Precio: $20.0, Cantidad: 15\n",
      "Nombre: Vestido, Precio: $15.0, Cantidad: 22\n"
     ]
    }
   ],
   "source": [
    "ver_inventario()"
   ]
  },
  {
   "cell_type": "code",
   "execution_count": 27,
   "id": "a3f936b4",
   "metadata": {},
   "outputs": [],
   "source": [
    "# FUNCION CALCULAR VALOR INVENTARIO\n",
    "\n",
    "def calcular_valor_inventario():\n",
    "    total = 0\n",
    "    for producto in inventario:\n",
    "        total += (producto['precio'] * producto['cantidad'])\n",
    "        #print(f\"Producto: {producto['nombre']}. Parcial: ${(producto['precio'] * producto['cantidad'])}\") #Si quiero imprimir parciales por producto\n",
    "        \n",
    "    print(f\"El valor total del inventario es: ${round(total)}.\")"
   ]
  },
  {
   "cell_type": "code",
   "execution_count": 28,
   "id": "e5cdbebc",
   "metadata": {},
   "outputs": [
    {
     "name": "stdout",
     "output_type": "stream",
     "text": [
      "El valor total del inventario es: $1510.\n"
     ]
    }
   ],
   "source": [
    "calcular_valor_inventario()"
   ]
  },
  {
   "cell_type": "code",
   "execution_count": 31,
   "id": "aaab548c",
   "metadata": {},
   "outputs": [],
   "source": [
    "# FUNCION REALIZAR COMPRA\n",
    "\n",
    "def realizar_compra():\n",
    "    #Ingresa cliente a la tienda\n",
    "    cliente = input(\"Hola! =) ¿Cuál es su nombre?\\n\")\n",
    "    print(f\"Bienvenida a la tienda {cliente.capitalize()}\\n\"\n",
    "        \"Puede salir en cualquier momento escribiendo 'salir'\")\n",
    "\n",
    "\n",
    "\n",
    "    #Inicia la compra\n",
    "    compra = True\n",
    "    carrito = []\n",
    "    total = 0\n",
    "\n",
    "\n",
    "\n",
    "    while compra:\n",
    "        print(\"\\nPRODUCTOS DISPONIBLES\")\n",
    "        for item in inventario:\n",
    "            print(f\"{item['nombre']} - ${item['precio']} - {item['cantidad']} unidades\")\n",
    "        print(\"   \")\n",
    "        \n",
    "\n",
    "        producto = str(input(f\"\\n{cliente.capitalize()}, ¿qué producto queres comprar?\\n\"        #Que producto quiere comprar?\n",
    "                        \"Si quiere salir escriba 'salir'\\n\"))\n",
    "        \n",
    "        #Si quiere salir ---> Este bloque se repite, puedo hacer una función \n",
    "        if producto.lower() == \"salir\":                                                                    \n",
    "            if len(carrito)  > 0:                                                  # Si el carrito tiene productos  \n",
    "                print(\"\\nTenes productos en tu carrito.\")\n",
    "                confirmar = input(\"¿Querés finalizar la compra y pagar (sí) o salir sin comprar (no)?\\n\").lower()\n",
    "                if confirmar == \"sí\" or confirmar == \"si\":\n",
    "                    print(\"\\nResumen de tu compra:\\n\")\n",
    "                    for items in carrito:\n",
    "                        print(f\"{items['nombre']} - {items['cantidad']} unidades - ${items['precio'] * items['cantidad']}\")\n",
    "                    print(f\"\\nEl total de su compra es ${total}\")\n",
    "                    print(f\"\\nGracias por su compra, vuelva pronto {cliente.capitalize()}\")\n",
    "                    compra = False\n",
    "                    return # sale de la función\n",
    "                else:\n",
    "                    print(f\"Usted ha salido sin comprar, {cliente.capitalize()}. Nos vemos pronto\")\n",
    "                    return # sale de la función\n",
    "            else:\n",
    "                print(f\"\\nGracias por su visita, {cliente.capitalize()}\")\n",
    "                return  # Si no hay productos en el carrito, sale de la función\n",
    "            \n",
    "\n",
    "\n",
    "        if producto == \"\":                                                                   # Si no ingresa nada\n",
    "            print(\"Por favor ingrese un producto\")\n",
    "            continue\n",
    "\n",
    "        #Verificar si el producto esta en el inventario\n",
    "        encontrado = False\n",
    "        for item in inventario:\n",
    "            if producto.lower() == item['nombre'].lower():                                   # Si el producto está en la lista\n",
    "                encontrado = True\n",
    "                break\n",
    "        \n",
    "        if encontrado == False:                                                            # Si el producto no está en la lista     \n",
    "            print(\" \")\n",
    "            print(f\"El producto {producto.capitalize()} no está disponible en la tienda\")\n",
    "            print(\"Por favor elija otro producto\")\n",
    "            continue\n",
    "\n",
    "                    # Si el producto está en la lista    \n",
    "        cantidad = input(f\"¿Cuántas unidades de {producto.capitalize()} querés comprar?\")                               #Cuántas unidades quiere comprar?\n",
    "\n",
    "        #Si quiere salir    \n",
    "        if cantidad.lower() == \"salir\":\n",
    "            if len(carrito)  > 0:                                                  # Si el carrito tiene productos  \n",
    "                print(\" \")\n",
    "                print(\"Tenes productos en tu carrito.\")\n",
    "                confirmar = input(\"¿Querés finalizar la compra y pagar (sí) o salir sin comprar (no)?\\n\").lower()\n",
    "                if confirmar == \"sí\" or confirmar == \"si\":\n",
    "                    print(\"Resumen de tu compra:\")\n",
    "                    print(\" \")\n",
    "                    for items in carrito:\n",
    "                        print(f\"{items['nombre']} - {items['cantidad']} unidades - ${items['precio'] * items['cantidad']}\")\n",
    "                    print(f\"\\nEl total de su compra es ${total}\")\n",
    "                    print(f\"\\nGracias por su compra, vuelva pronto {cliente.capitalize()}\")\n",
    "                    compra = False\n",
    "                    return # sale de la función\n",
    "                else:\n",
    "                    print(f\"Usted ha salido sin comprar, {cliente.capitalize()}. Nos vemos pronto\")\n",
    "                    return\n",
    "\n",
    "            else:\n",
    "                print(f\"\\nGracias por su visita, {cliente.capitalize()}\")\n",
    "                return # Si no hay productos en el carrito, sale de la función\n",
    "\n",
    "        if cantidad == \"\":                                                                   # Si no ingresa nada\n",
    "            print(\" \")\n",
    "            print(\"Por favor ingrese un valor\")\n",
    "            continue\n",
    "            \n",
    "        if not cantidad.isdigit() or int(cantidad) <= 0:                                      # Si no es un número o es menor o igual a 0\n",
    "            print(\" \")\n",
    "            print(\"Por favor ingrese cantidad válida. Un número mayor a 0\")\n",
    "            continue\n",
    "\n",
    "        cantidad = int(cantidad)                                                       # Convertir a entero \n",
    "                                                                            \n",
    "        #Verificar si hay stock\n",
    "        for item in inventario:                                                            \n",
    "            if item['nombre'].lower() == producto.lower():\n",
    "                if cantidad > item['cantidad']:\n",
    "                    print(\" \")\n",
    "                    print(f\"Lo siento, no tenemos suficientes unidades de {producto}\")\n",
    "                else:\n",
    "                    actualizar_stock(producto, -cantidad)                                                #Actualizar stock con funcion\n",
    "                                                                \n",
    "                    #Actualizar carrito\n",
    "                    for elemento in carrito:\n",
    "                        if elemento['nombre'].lower() == producto.lower():                            # Si el producto ya está en el carrito, actualizar cantidad\n",
    "                            elemento['cantidad'] += cantidad\n",
    "                            break\n",
    "                    else:\n",
    "                        carrito.append({'nombre': producto.capitalize(), 'precio': item['precio'], 'cantidad': cantidad})   # Si el producto no está en el carrito, agregarlo\n",
    "        \n",
    "                    #Actualizar total\n",
    "                    total += item['precio'] * cantidad\n",
    "                    print(\" \")\n",
    "                    print(f\"Agregaste {cantidad} unidades de {producto.capitalize()} al carrito\")\n",
    "\n",
    "                                \n",
    "                    #Mostrar lista de productor en el carrito\n",
    "                    print(\" \")\n",
    "                    print(\"PRODUCTOS EN CARRITO\")\n",
    "                    for elemento in carrito:\n",
    "                        print(f\"{elemento['nombre'].capitalize()} - {elemento['cantidad']} unidades - ${elemento['precio'] * elemento['cantidad']}\")\n",
    "                    print(\" \")\n",
    "                    print(f\"El total de su compra es ${total}\")\n",
    "                    print(\" \")\n",
    "                break #este break para salir del for del inventario\n"
   ]
  },
  {
   "cell_type": "code",
   "execution_count": 32,
   "id": "ca420efa",
   "metadata": {},
   "outputs": [
    {
     "name": "stdout",
     "output_type": "stream",
     "text": [
      "Bienvenida a la tienda Julia\n",
      "Puede salir en cualquier momento escribiendo 'salir'\n",
      "\n",
      "PRODUCTOS DISPONIBLES\n",
      "Camisa - $20.0 - 37 unidades\n",
      "Medias - $10.0 - 7 unidades\n",
      "Pantalón - $20.0 - 15 unidades\n",
      "Vestido - $15.0 - 22 unidades\n",
      "   \n",
      " \n",
      "El producto 9 no está disponible en la tienda\n",
      "Por favor elija otro producto\n",
      "\n",
      "PRODUCTOS DISPONIBLES\n",
      "Camisa - $20.0 - 37 unidades\n",
      "Medias - $10.0 - 7 unidades\n",
      "Pantalón - $20.0 - 15 unidades\n",
      "Vestido - $15.0 - 22 unidades\n",
      "   \n",
      " \n",
      "Por favor ingrese cantidad válida. Un número mayor a 0\n",
      "\n",
      "PRODUCTOS DISPONIBLES\n",
      "Camisa - $20.0 - 37 unidades\n",
      "Medias - $10.0 - 7 unidades\n",
      "Pantalón - $20.0 - 15 unidades\n",
      "Vestido - $15.0 - 22 unidades\n",
      "   \n",
      "Producto: Camisa. Stock actual: 35. Actualizado.\n",
      " \n",
      "Agregaste 2 unidades de Camisa al carrito\n",
      " \n",
      "PRODUCTOS EN CARRITO\n",
      "Camisa - 2 unidades - $40.0\n",
      " \n",
      "El total de su compra es $40.0\n",
      " \n",
      "\n",
      "PRODUCTOS DISPONIBLES\n",
      "Camisa - $20.0 - 35 unidades\n",
      "Medias - $10.0 - 7 unidades\n",
      "Pantalón - $20.0 - 15 unidades\n",
      "Vestido - $15.0 - 22 unidades\n",
      "   \n",
      "Producto: Vestido. Stock actual: 19. Actualizado.\n",
      " \n",
      "Agregaste 3 unidades de Vestido al carrito\n",
      " \n",
      "PRODUCTOS EN CARRITO\n",
      "Camisa - 2 unidades - $40.0\n",
      "Vestido - 3 unidades - $45.0\n",
      " \n",
      "El total de su compra es $85.0\n",
      " \n",
      "\n",
      "PRODUCTOS DISPONIBLES\n",
      "Camisa - $20.0 - 35 unidades\n",
      "Medias - $10.0 - 7 unidades\n",
      "Pantalón - $20.0 - 15 unidades\n",
      "Vestido - $15.0 - 19 unidades\n",
      "   \n",
      "Producto: Camisa. Stock actual: 34. Actualizado.\n",
      " \n",
      "Agregaste 1 unidades de Camisa al carrito\n",
      " \n",
      "PRODUCTOS EN CARRITO\n",
      "Camisa - 3 unidades - $60.0\n",
      "Vestido - 3 unidades - $45.0\n",
      " \n",
      "El total de su compra es $105.0\n",
      " \n",
      "\n",
      "PRODUCTOS DISPONIBLES\n",
      "Camisa - $20.0 - 34 unidades\n",
      "Medias - $10.0 - 7 unidades\n",
      "Pantalón - $20.0 - 15 unidades\n",
      "Vestido - $15.0 - 19 unidades\n",
      "   \n",
      "\n",
      "Tenes productos en tu carrito.\n",
      "\n",
      "Resumen de tu compra:\n",
      "\n",
      "Camisa - 3 unidades - $60.0\n",
      "Vestido - 3 unidades - $45.0\n",
      "\n",
      "El total de su compra es $105.0\n",
      "\n",
      "Gracias por su compra, vuelva pronto Julia\n"
     ]
    }
   ],
   "source": [
    "#Ejemplo: realizar compra\n",
    "realizar_compra()\n",
    "   "
   ]
  },
  {
   "cell_type": "code",
   "execution_count": 33,
   "id": "3aeb2adc",
   "metadata": {},
   "outputs": [],
   "source": [
    "#FUNCION PROCESAR PAGO\n",
    "\n",
    "def procesar_pago():\n",
    "    while True:       #primer bucle para el total de la compra\n",
    "        try:\n",
    "            total_compra = float(input(\"¿Cuál es el total de su compra?\\n\"))\n",
    "            print(f\"El total de la compra es ${round(total_compra, 2)}\")\n",
    "            if total_compra <= 0:\n",
    "                raise ValueError(\"El total de la compra debe ser mayor a 0.\")\n",
    "            break # Sale del bucle si el total es válido\n",
    "        except ValueError as e:\n",
    "            print(f\"Por favor, ingresa un número válido. {e}\")\n",
    "\n",
    "    while True:       #segundo bucle para la cantidad pagada\n",
    "        try:\n",
    "            cantidad_pagada = float(input(\"¿Cuánto dinero tiene?\\n\"))\n",
    "            print(f\"El monto ingresado es ${round(cantidad_pagada, 2)}\")\n",
    "            if cantidad_pagada <= 0:\n",
    "                raise ValueError(\"La cantidad pagada debe ser mayor a 0.\")\n",
    "            if cantidad_pagada < total_compra:\n",
    "                print(f\"\\nLa cantidad abonada es insuficiente. Faltan ${round(total_compra - cantidad_pagada, 2)}\")\n",
    "                continue  # permite que vuelva a intentar pagar\n",
    "            break #Sale del bucle si la cantidad pagada alcanza para pagar el total\n",
    "        except ValueError as e:\n",
    "            print(f\"Por favor, ingresa un número válido. {e}\")\n",
    "\n",
    "    #Calcular el cambio y mostrarlo con mensaje de compra exitosa\n",
    "    cambio = cantidad_pagada - total_compra\n",
    "    print(f\"\\nGracias por su pago de ${round(cantidad_pagada, 2)}. Su vuelto es ${round(cambio, 2)}.\")\n",
    "    print(\"Su compra ha sido exitosa.\")\n",
    "\n"
   ]
  },
  {
   "cell_type": "code",
   "execution_count": 35,
   "id": "54a1ca09",
   "metadata": {},
   "outputs": [
    {
     "name": "stdout",
     "output_type": "stream",
     "text": [
      "El total de la compra es $14.3\n",
      "El monto ingresado es $20.0\n",
      "\n",
      "Gracias por su pago de $20.0. Su vuelto es $5.7.\n",
      "Su compra ha sido exitosa.\n"
     ]
    }
   ],
   "source": [
    "#Ejemplo: procesar pago exitoso\n",
    "procesar_pago()\n"
   ]
  },
  {
   "cell_type": "code",
   "execution_count": 36,
   "id": "bed2dd7f",
   "metadata": {},
   "outputs": [
    {
     "name": "stdout",
     "output_type": "stream",
     "text": [
      "Por favor, ingresa un número válido. could not convert string to float: 'fg'\n",
      "El total de la compra es $0.0\n",
      "Por favor, ingresa un número válido. El total de la compra debe ser mayor a 0.\n",
      "El total de la compra es $13.0\n",
      "El monto ingresado es $-2.0\n",
      "Por favor, ingresa un número válido. La cantidad pagada debe ser mayor a 0.\n",
      "El monto ingresado es $11.0\n",
      "\n",
      "La cantidad abonada es insuficiente. Faltan $2.0\n",
      "El monto ingresado es $16.0\n",
      "\n",
      "Gracias por su pago de $16.0. Su vuelto es $3.0.\n",
      "Su compra ha sido exitosa.\n"
     ]
    }
   ],
   "source": [
    "#Ejemplo: procesar pago con errores\n",
    "procesar_pago()"
   ]
  },
  {
   "cell_type": "code",
   "execution_count": 37,
   "id": "3438addc",
   "metadata": {},
   "outputs": [],
   "source": [
    "#FUNCION PARA REGISTRAR A LOS CLIENTES  \n",
    "\n",
    "def agregar_cliente(nombre, email):\n",
    "    if nombre not in clientes:\n",
    "        clientes[nombre] = {'email': email, 'compras': []} # estructura: diccionario dentro de otro diccionario, y el item compras es una lista vacía\n",
    "        print(f\"Cliente {nombre} registrado con éxito.\")\n",
    "        print(f\"Email: {email}\")\n",
    "    else:   \n",
    "        print(f\"El cliente {nombre} ya está registrado.\")\n",
    "    \n"
   ]
  },
  {
   "cell_type": "code",
   "execution_count": 38,
   "id": "657c344c",
   "metadata": {},
   "outputs": [
    {
     "name": "stdout",
     "output_type": "stream",
     "text": [
      "Cliente juan registrado con éxito.\n",
      "Email: juancito@mail.com\n"
     ]
    }
   ],
   "source": [
    "#Ejemplo: agregar cliente\n",
    "agregar_cliente(\"juan\", \"juancito@mail.com\")"
   ]
  },
  {
   "cell_type": "code",
   "execution_count": 39,
   "id": "c00b3164",
   "metadata": {},
   "outputs": [
    {
     "name": "stdout",
     "output_type": "stream",
     "text": [
      "El cliente juan ya está registrado.\n"
     ]
    }
   ],
   "source": [
    "#Ejemplo: agregar cliente que ya existe\n",
    "agregar_cliente(\"juan\", \"juancito@mail.com\")"
   ]
  },
  {
   "cell_type": "code",
   "execution_count": 40,
   "id": "47a17922",
   "metadata": {},
   "outputs": [
    {
     "data": {
      "text/plain": [
       "{'juan': {'email': 'juancito@mail.com', 'compras': []}}"
      ]
     },
     "execution_count": 40,
     "metadata": {},
     "output_type": "execute_result"
    }
   ],
   "source": [
    "clientes"
   ]
  },
  {
   "cell_type": "code",
   "execution_count": 41,
   "id": "bcfa1fc4",
   "metadata": {},
   "outputs": [],
   "source": [
    "#FUNCION VER CLIENTES\n",
    "\n",
    "def ver_clientes():\n",
    "    print(\"\\n              CLIENTES\\n\")\n",
    "    for cliente, datos in clientes.items():\n",
    "                print(f\"Nombre: {cliente}, Email: {datos['email']}\")"
   ]
  },
  {
   "cell_type": "code",
   "execution_count": 42,
   "id": "6d1ef104",
   "metadata": {},
   "outputs": [
    {
     "name": "stdout",
     "output_type": "stream",
     "text": [
      "\n",
      "              CLIENTES\n",
      "\n",
      "Nombre: juan, Email: juancito@mail.com\n"
     ]
    }
   ],
   "source": [
    "#Ejemplo: ver clientes\n",
    "ver_clientes()"
   ]
  },
  {
   "cell_type": "code",
   "execution_count": 43,
   "id": "735d0ffd",
   "metadata": {},
   "outputs": [],
   "source": [
    "registro_compras = []"
   ]
  },
  {
   "cell_type": "code",
   "execution_count": 44,
   "id": "6b2c4b99",
   "metadata": {},
   "outputs": [],
   "source": [
    "\n",
    "# FUNCION REGISTRAR COMPRA CLIENTE\n",
    "\n",
    "def registrar_compra(nombre_cliente, carrito):\n",
    "    global ventas_totales, registro_compras  # Para llamar a variable global y poder actualizarla\n",
    "    nombre_cliente = nombre_cliente.lower()\n",
    "\n",
    "    # Calculo el total de la compra\n",
    "    total_compra = 0\n",
    "    for producto, detalles in carrito.items():\n",
    "        total_compra += detalles['precio'] * detalles['cantidad']\n",
    "\n",
    "    # Busco cliente en diccionario y agrego la compra a la lista de compras\n",
    "    if nombre_cliente in clientes:\n",
    "        # Agrego la compra al cliente\n",
    "        clientes[nombre_cliente]['compras'].append({'productos': carrito, 'total': total_compra})\n",
    "        print(f\"Compra registrada para el cliente {nombre_cliente.capitalize()}\")\n",
    "\n",
    "        # Imprimo detalles de la compra\n",
    "        print(\"\\nDetalles de la compra:\\n\")\n",
    "        for producto, detalles in carrito.items():\n",
    "            print(f\"{producto}: ${detalles['precio']} x {detalles['cantidad']} = ${detalles['precio'] * detalles['cantidad']}\")\n",
    "        print(f\"\\nTotal de la compra: ${total_compra}\")\n",
    "\n",
    "        # Actualizo ventas totales\n",
    "        ventas_totales += total_compra\n",
    "        print(f\"\\nVentas totales: ${ventas_totales} de la tienda\")\n",
    "\n",
    "        #Agrego la compra al registro de compras\n",
    "        registro_compras.append({'clientes': nombre_cliente, 'productos': carrito, 'total': total_compra})\n",
    "        print(f\"Registro de compras actualizado:  {len(registro_compras)} compras registradas.\")\n",
    "    # Si el cliente no existe\n",
    "    else:\n",
    "        print(f\"El cliente {nombre_cliente.capitalize()} no está registrado.\\n\"\n",
    "              \"Por favor, registre al cliente.\\n\")"
   ]
  },
  {
   "cell_type": "code",
   "execution_count": 45,
   "id": "d1f5bc37",
   "metadata": {},
   "outputs": [
    {
     "name": "stdout",
     "output_type": "stream",
     "text": [
      "Compra registrada para el cliente Juan\n",
      "\n",
      "Detalles de la compra:\n",
      "\n",
      "Camisa: $20 x 2 = $40\n",
      "Medias: $10 x 5 = $50\n",
      "\n",
      "Total de la compra: $90\n",
      "\n",
      "Ventas totales: $90.0 de la tienda\n",
      "Registro de compras actualizado:  1 compras registradas.\n"
     ]
    }
   ],
   "source": [
    "#Ejemplo: registrar compra\n",
    "carrito = {'Camisa': {'precio': 20, 'cantidad': 2}, 'Medias': {'precio': 10, 'cantidad': 5}}\n",
    "registrar_compra(\"Juan\", carrito)\n"
   ]
  },
  {
   "cell_type": "code",
   "execution_count": 46,
   "id": "17b605b7",
   "metadata": {},
   "outputs": [
    {
     "name": "stdout",
     "output_type": "stream",
     "text": [
      "El cliente Carlos no está registrado.\n",
      "Por favor, registre al cliente.\n",
      "\n"
     ]
    }
   ],
   "source": [
    "#Ejemplo: registrar compra de cliente no registrado\n",
    "carrito = {'Camisa': {'precio': 20, 'cantidad': 2}, 'Medias': {'precio': 10, 'cantidad': 5}}\n",
    "registrar_compra(\"Carlos\", carrito)\n"
   ]
  },
  {
   "cell_type": "code",
   "execution_count": 47,
   "id": "ac099fdc",
   "metadata": {},
   "outputs": [
    {
     "name": "stdout",
     "output_type": "stream",
     "text": [
      "Compra registrada para el cliente Juan\n",
      "\n",
      "Detalles de la compra:\n",
      "\n",
      "Vestido: $15 x 3 = $45\n",
      "Pañuelo: $10.5 x 2 = $21.0\n",
      "\n",
      "Total de la compra: $66.0\n",
      "\n",
      "Ventas totales: $156.0 de la tienda\n",
      "Registro de compras actualizado:  2 compras registradas.\n"
     ]
    }
   ],
   "source": [
    "#Ejemplo: registrar compra\n",
    "carrito = {'Vestido': {'precio': 15, 'cantidad': 3}, 'Pañuelo': {'precio': 10.5, 'cantidad': 2}}\n",
    "registrar_compra(\"Juan\", carrito)"
   ]
  },
  {
   "cell_type": "code",
   "execution_count": 48,
   "id": "12834176",
   "metadata": {},
   "outputs": [],
   "source": [
    "# FUNCION VER COMPRAS DE UN CLIENTE\n",
    "\n",
    "def ver_compras_cliente(nombre_cliente):\n",
    "    nombre_cliente = nombre_cliente.lower()\n",
    "\n",
    "    # Verifico si el cliente esta registrado\n",
    "    if nombre_cliente in clientes:\n",
    "\n",
    "        #Muestro compras\n",
    "        for compra in clientes[nombre_cliente]['compras']:\n",
    "\n",
    "            #verifico que la compra tenga el formato correcto (las primeras compras no lo tienen faltaba el total por ejemplo)\n",
    "            if isinstance(compra, dict) and 'productos' in compra and 'total' in compra:\n",
    "                print(f\"\\nDetalles de la compra:\\n\")\n",
    "\n",
    "                #Muestro productos y total\n",
    "                for producto, detalles in compra['productos'].items():\n",
    "                    print(f\"{producto}: ${detalles['precio']} x {detalles['cantidad']} = ${detalles['precio'] * detalles['cantidad']}\")\n",
    "                print(f\"\\nTotal de la compra: ${compra['total']}\")\n",
    "            else:\n",
    "                print(\"Compra con formato incorrecto, no se puede mostrar:\", compra)  #las compras anteriores con formato incorrecto\n",
    "    else:\n",
    "        print(f\"El cliente {nombre_cliente.capitalize()} no está registrado.\\n\"  #cliente no registrado\n",
    "              \"Por favor, registre al cliente.\\n\")"
   ]
  },
  {
   "cell_type": "code",
   "execution_count": 49,
   "id": "40aade05",
   "metadata": {},
   "outputs": [
    {
     "name": "stdout",
     "output_type": "stream",
     "text": [
      "\n",
      "Detalles de la compra:\n",
      "\n",
      "Camisa: $20 x 2 = $40\n",
      "Medias: $10 x 5 = $50\n",
      "\n",
      "Total de la compra: $90\n",
      "\n",
      "Detalles de la compra:\n",
      "\n",
      "Vestido: $15 x 3 = $45\n",
      "Pañuelo: $10.5 x 2 = $21.0\n",
      "\n",
      "Total de la compra: $66.0\n"
     ]
    }
   ],
   "source": [
    "ver_compras_cliente(\"Juan\")"
   ]
  },
  {
   "cell_type": "code",
   "execution_count": 50,
   "id": "70f2fdd7",
   "metadata": {},
   "outputs": [
    {
     "name": "stdout",
     "output_type": "stream",
     "text": [
      "El cliente Jime no está registrado.\n",
      "Por favor, registre al cliente.\n",
      "\n"
     ]
    }
   ],
   "source": [
    "ver_compras_cliente(\"Jime\")"
   ]
  },
  {
   "cell_type": "code",
   "execution_count": 51,
   "id": "505ef6ae",
   "metadata": {},
   "outputs": [],
   "source": [
    "# FUNCION CALCULAR VENTAS TOTALES\n",
    "\n",
    "#El total de ventas ya se habia calculado en la funcion registrar compra, se puede llamar directamente a esa variable\n",
    "\n",
    "def calcular_ventas_totales():\n",
    "    return f\"Las ventas totales de la tienda son: ${ventas_totales}\" #cuando es return no hace falta print"
   ]
  },
  {
   "cell_type": "code",
   "execution_count": 52,
   "id": "a68e85a2",
   "metadata": {},
   "outputs": [
    {
     "data": {
      "text/plain": [
       "'Las ventas totales de la tienda son: $156.0'"
      ]
     },
     "execution_count": 52,
     "metadata": {},
     "output_type": "execute_result"
    }
   ],
   "source": [
    "#Ejemplo calcular ventas totales\n",
    "calcular_ventas_totales()"
   ]
  }
 ],
 "metadata": {
  "kernelspec": {
   "display_name": "base",
   "language": "python",
   "name": "python3"
  },
  "language_info": {
   "codemirror_mode": {
    "name": "ipython",
    "version": 3
   },
   "file_extension": ".py",
   "mimetype": "text/x-python",
   "name": "python",
   "nbconvert_exporter": "python",
   "pygments_lexer": "ipython3",
   "version": "3.12.3"
  }
 },
 "nbformat": 4,
 "nbformat_minor": 5
}
